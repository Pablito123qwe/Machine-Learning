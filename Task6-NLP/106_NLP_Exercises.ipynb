{
 "cells": [
  {
   "cell_type": "markdown",
   "metadata": {},
   "source": [
    "# NLP Exercises\n",
    "\n",
    "We have five exercises in this section. The exercises are:\n",
    "1. Build your own tokenizer, where you need to implement two functions to implement a tokenizer based on regular expression.\n",
    "2. Get tags from Trump speech.\n",
    "3. Get the nouns in the last 10 sentences from Trump's speech and find the nouns divided by sentencens. Use SpaCy.\n",
    "4. Build your own Bag Of Words implementation using tokenizer created before.\n",
    "5. Build a 5-gram model and clean up the results."
   ]
  },
  {
   "cell_type": "markdown",
   "metadata": {},
   "source": [
    "## Exercise 1. Build your own tokenizer\n",
    "\n",
    "Build two different tokenizers:\n",
    "- ``tokenize_sentence``: function tokenizing text into sentences,\n",
    "- ``tokenize_word``: function tokenizing text into words."
   ]
  },
  {
   "cell_type": "code",
   "metadata": {
    "ExecuteTime": {
     "end_time": "2025-05-07T10:25:30.071676Z",
     "start_time": "2025-05-07T10:25:30.067442Z"
    }
   },
   "source": [
    "from typing import List\n",
    "import re\n",
    "def tokenize_words(text: str) -> list:\n",
    "    return re.findall(r'\\b\\w+\\b', text)\n",
    "\n",
    "def tokenize_sentence(text: str) -> list:\n",
    "    return re.split('(?<=[.!?]) +(?=[:A-Z])', text)\n",
    "\n",
    "text = \"Here we go again. I was supposed to add this text later. \\\n",
    "Well, it's 10.p.m. here, and I'm actually having fun making this course. :o \\\n",
    "I hope you are getting along fine with this presentation, I really did try. \\\n",
    "And one last sentence, just so you can test you tokenizers better.\"\n",
    "\n",
    "print(\"Tokenized sentences:\")\n",
    "print(tokenize_sentence(text))\n",
    "\n",
    "print(\"Tokenized words:\")\n",
    "print(tokenize_words(text))"
   ],
   "outputs": [
    {
     "name": "stdout",
     "output_type": "stream",
     "text": [
      "Tokenized sentences:\n",
      "['Here we go again.', 'I was supposed to add this text later.', \"Well, it's 10.p.m. here, and I'm actually having fun making this course.\", ':o I hope you are getting along fine with this presentation, I really did try.', 'And one last sentence, just so you can test you tokenizers better.']\n",
      "Tokenized words:\n",
      "['Here', 'we', 'go', 'again', 'I', 'was', 'supposed', 'to', 'add', 'this', 'text', 'later', 'Well', 'it', 's', '10', 'p', 'm', 'here', 'and', 'I', 'm', 'actually', 'having', 'fun', 'making', 'this', 'course', 'o', 'I', 'hope', 'you', 'are', 'getting', 'along', 'fine', 'with', 'this', 'presentation', 'I', 'really', 'did', 'try', 'And', 'one', 'last', 'sentence', 'just', 'so', 'you', 'can', 'test', 'you', 'tokenizers', 'better']\n"
     ]
    }
   ],
   "execution_count": 24
  },
  {
   "cell_type": "markdown",
   "metadata": {},
   "source": [
    "## Exercise 2. Get tags from Trump speech using NLTK\n",
    "\n",
    "You should use the ``trump.txt`` file, read it and find the tags for each word. Use NLTK for it."
   ]
  },
  {
   "cell_type": "code",
   "metadata": {
    "ExecuteTime": {
     "end_time": "2025-05-07T10:25:31.494961Z",
     "start_time": "2025-05-07T10:25:30.093731Z"
    }
   },
   "source": [
    "import nltk\n",
    "from nltk import word_tokenize\n",
    "from nltk import pos_tag\n",
    "\n",
    "\n",
    "nltk.download(quiet=True)\n",
    "\n",
    "file = open(\"./datasets/trump.txt\", \"r\",encoding=\"utf-8\")\n",
    "trump = file.read()\n",
    "words = word_tokenize(trump)\n",
    "\n",
    "\n",
    "tags = pos_tag(words)\n",
    "\n",
    "for word, tag in tags[:20]:\n",
    "    print(f\"{word} -> {tag}\")\n"
   ],
   "outputs": [
    {
     "name": "stdout",
     "output_type": "stream",
     "text": [
      "showing info https://raw.githubusercontent.com/nltk/nltk_data/gh-pages/index.xml\n",
      "Thank -> NNP\n",
      "you -> PRP\n",
      "very -> RB\n",
      "much -> RB\n",
      ". -> .\n",
      "Mr. -> NNP\n",
      "Speaker -> NNP\n",
      ", -> ,\n",
      "Mr. -> NNP\n",
      "Vice -> NNP\n",
      "President -> NNP\n",
      ", -> ,\n",
      "Members -> NNP\n",
      "of -> IN\n",
      "Congress -> NNP\n",
      ", -> ,\n",
      "the -> DT\n",
      "First -> NNP\n",
      "Lady -> NNP\n",
      "of -> IN\n"
     ]
    }
   ],
   "execution_count": 25
  },
  {
   "cell_type": "markdown",
   "metadata": {},
   "source": [
    "## Exercise 3. Get the nouns in the last 10 sentences from Trump's speech and find the nouns divided by sentencens. Use SpaCy.\n",
    "\n",
    "Please use Python list features to get the last 10 sentences and display nouns from it."
   ]
  },
  {
   "cell_type": "code",
   "metadata": {
    "ExecuteTime": {
     "end_time": "2025-05-07T10:25:32.592310Z",
     "start_time": "2025-05-07T10:25:31.533514Z"
    }
   },
   "source": [
    "import spacy\n",
    "\n",
    "nlp = spacy.load(\"en_core_web_sm\")\n",
    "file = open(\"./datasets/trump.txt\", \"r\",encoding='utf-8')\n",
    "trump = file.read()\n",
    "\n",
    "doc = nlp(trump)\n",
    "sentences = list(doc.sents)\n",
    "last_10_sentences = sentences[-10:]\n",
    "\n",
    "for i, sent in enumerate(last_10_sentences, 1):\n",
    "    nouns = [token.text for token in sent if token.pos_ == \"NOUN\"]\n",
    "    print(f\"Sentence {i}:\")\n",
    "    print(f\"Text: {sent.text.strip()}\")\n",
    "    print(f\"Nouns: {nouns}\\n\")\n"
   ],
   "outputs": [
    {
     "name": "stdout",
     "output_type": "stream",
     "text": [
      "Sentence 1:\n",
      "Text: When we fulfill this vision, when we celebrate our 250 years of glorious freedom, we will look back on tonight as when this new chapter of American greatness began.\n",
      "Nouns: ['vision', 'years', 'freedom', 'tonight', 'chapter', 'greatness']\n",
      "\n",
      "Sentence 2:\n",
      "Text: The time for small thinking is over.\n",
      "Nouns: ['time', 'thinking']\n",
      "\n",
      "Sentence 3:\n",
      "Text: The time for trivial fights is behind us.\n",
      "Nouns: ['time', 'fights']\n",
      "\n",
      "Sentence 4:\n",
      "Text: We just need the courage to share the dreams that fill our hearts, the bravery to express the hopes that stir our souls, and the confidence to turn those hopes and those dreams into action.\n",
      "Nouns: ['courage', 'dreams', 'hearts', 'bravery', 'hopes', 'souls', 'confidence', 'hopes', 'dreams', 'action']\n",
      "\n",
      "Sentence 5:\n",
      "Text: From now on, America will be empowered by our aspirations, not burdened by our fears; inspired by the future, not bound by failures of the past; and guided by our vision, not blinded by our doubts.\n",
      "Nouns: ['aspirations', 'fears', 'future', 'failures', 'past', 'vision', 'doubts']\n",
      "\n",
      "Sentence 6:\n",
      "Text: I am asking all citizens to embrace this renewal of the American spirit.\n",
      "Nouns: ['citizens', 'renewal', 'spirit']\n",
      "\n",
      "Sentence 7:\n",
      "Text: I am asking all Members of Congress to join me in dreaming big and bold, and daring things for our country.\n",
      "Nouns: ['Members', 'things', 'country']\n",
      "\n",
      "Sentence 8:\n",
      "Text: I am asking everyone watching tonight to seize this moment.\n",
      "Nouns: ['tonight', 'moment']\n",
      "\n",
      "Sentence 9:\n",
      "Text: Believe in yourselves, believe in your future, and believe, once more, in America.\n",
      "Nouns: ['yourselves', 'future']\n",
      "\n",
      "Sentence 10:\n",
      "Text: Thank you, God bless you, and God bless the United States.\n",
      "Nouns: []\n",
      "\n"
     ]
    }
   ],
   "execution_count": 26
  },
  {
   "cell_type": "markdown",
   "metadata": {},
   "source": [
    "## Exercise 4. Build your own Bag Of Words implementation using tokenizer created before \n",
    "\n",
    "You need to implement following methods:\n",
    "\n",
    "- ``fit_transform`` - gets a list of strings and returns matrix with it's BoW representation\n",
    "- ``get_features_names`` - returns list of words corresponding to columns in BoW"
   ]
  },
  {
   "cell_type": "code",
   "metadata": {
    "ExecuteTime": {
     "end_time": "2025-05-07T10:25:32.967637Z",
     "start_time": "2025-05-07T10:25:32.628270Z"
    }
   },
   "source": [
    "import numpy as np\n",
    "import spacy\n",
    "\n",
    "class BagOfWords:\n",
    "    \n",
    "    def __init__(self):\n",
    "        self.__nlp = spacy.load(\"en_core_web_sm\")\n",
    "        self.__feature_names = []\n",
    "\n",
    "    def fit_transform(self, corpus: list):\n",
    "        vocab = {}\n",
    "        tokenized_docs = []\n",
    "\n",
    "\n",
    "        for doc in corpus:\n",
    "            spacy_doc = self.__nlp(doc.lower())\n",
    "            tokens = [token.text for token in spacy_doc if token.is_alpha and not token.is_stop]\n",
    "            tokenized_docs.append(tokens)\n",
    "            for token in tokens:\n",
    "                if token not in vocab:\n",
    "                    vocab[token] = len(vocab)\n",
    "\n",
    "        self.__feature_names = [None] * len(vocab)\n",
    "        for word, idx in vocab.items():\n",
    "            self.__feature_names[idx] = word\n",
    "\n",
    "\n",
    "        bow_matrix = np.zeros((len(corpus), len(vocab)), dtype=int)\n",
    "        for i, tokens in enumerate(tokenized_docs):\n",
    "            for token in tokens:\n",
    "                bow_matrix[i, vocab[token]] += 1\n",
    "\n",
    "        return bow_matrix\n",
    "\n",
    "    def get_feature_names(self) -> list:\n",
    "        return self.__feature_names\n",
    "\n",
    "\n",
    "corpus = [\n",
    "    'Bag Of Words is based on counting',\n",
    "    'words occurences throughout multiple documents.',\n",
    "    'This is the third document.',\n",
    "    'As you can see most of the words occur only once.',\n",
    "    'This gives us a pretty sparse matrix, see below. Really, see below',\n",
    "]\n",
    "\n",
    "vectorizer = BagOfWords()\n",
    "\n",
    "X = vectorizer.fit_transform(corpus)\n",
    "print(X)\n",
    "\n",
    "print(vectorizer.get_feature_names())\n",
    "print(len(vectorizer.get_feature_names()))\n"
   ],
   "outputs": [
    {
     "name": "stdout",
     "output_type": "stream",
     "text": [
      "[[1 1 1 1 0 0 0 0 0 0 0 0 0]\n",
      " [0 1 0 0 1 1 1 0 0 0 0 0 0]\n",
      " [0 0 0 0 0 0 0 1 0 0 0 0 0]\n",
      " [0 1 0 0 0 0 0 0 1 0 0 0 0]\n",
      " [0 0 0 0 0 0 0 0 0 1 1 1 1]]\n",
      "['bag', 'words', 'based', 'counting', 'occurences', 'multiple', 'documents', 'document', 'occur', 'gives', 'pretty', 'sparse', 'matrix']\n",
      "13\n"
     ]
    }
   ],
   "execution_count": 27
  },
  {
   "cell_type": "markdown",
   "metadata": {},
   "source": [
    "## Exercise 5. Build a 5-gram model and clean up the results.\n",
    "\n",
    "There are three tasks to do:\n",
    "1. Use 5-gram model instead of 3.\n",
    "2. Change to capital letter each first letter of a sentence.\n",
    "3. Remove the whitespace between the last word in a sentence and . ! or ?.\n",
    "\n",
    "Hint: for 2. and 3. implement a function called ``clean_generated()`` that takes the generated text and fix both issues at once. It could be easier to fix the text after it's generated rather then doing some changes in the while loop."
   ]
  },
  {
   "cell_type": "code",
   "metadata": {
    "ExecuteTime": {
     "end_time": "2025-05-07T10:25:33.030821Z",
     "start_time": "2025-05-07T10:25:33.009885Z"
    }
   },
   "source": [
    "from nltk.book import *\n",
    "import random\n",
    "wall_street = text7.tokens\n",
    "\n",
    "import re\n",
    "\n",
    "tokens = wall_street\n",
    "\n",
    "def cleanup():\n",
    "    compiled_pattern = re.compile(\"^[a-zA-Z0-9.!?]\")\n",
    "    clean = list(filter(compiled_pattern.match,tokens))\n",
    "    return clean\n",
    "tokens = cleanup()\n",
    "\n",
    "def build_ngrams():\n",
    "    ngrams = []\n",
    "    for i in range(len(tokens)-N+1):\n",
    "        ngrams.append(tokens[i:i+N])\n",
    "    return ngrams\n",
    "\n",
    "def ngram_freqs(ngrams):\n",
    "    counts = {}\n",
    "\n",
    "    for ngram in ngrams:\n",
    "        token_seq  = SEP.join(ngram[:-1])\n",
    "        last_token = ngram[-1]\n",
    "\n",
    "        if token_seq not in counts:\n",
    "            counts[token_seq] = {}\n",
    "\n",
    "        if last_token not in counts[token_seq]:\n",
    "            counts[token_seq][last_token] = 0\n",
    "\n",
    "        counts[token_seq][last_token] += 1;\n",
    "\n",
    "    return counts\n",
    "\n",
    "def next_word(text, N, counts):\n",
    "\n",
    "    token_seq = SEP.join(text.split()[-(N-1):]);\n",
    "    choices = counts[token_seq].items();\n",
    "\n",
    "    total = sum(weight for choice, weight in choices)\n",
    "    r = random.uniform(0, total)\n",
    "    upto = 0\n",
    "    for choice, weight in choices:\n",
    "        upto += weight;\n",
    "        if upto > r: return choice\n",
    "    assert False # should not reach here"
   ],
   "outputs": [],
   "execution_count": 28
  },
  {
   "cell_type": "code",
   "metadata": {
    "ExecuteTime": {
     "end_time": "2025-05-07T10:25:33.341407Z",
     "start_time": "2025-05-07T10:25:33.080545Z"
    }
   },
   "source": [
    "def clean_generated(text: str) -> str:\n",
    "    text = re.sub(r\"\\s+([.?!])\", r\"\\1\", text)\n",
    "    sentences = re.split(r'(?<=[.?!])\\s+', text)\n",
    "    sentences = [s.strip().capitalize() for s in sentences if s]\n",
    "    return ' '.join(sentences)\n",
    "\n",
    "\n",
    "N = 5\n",
    "SEP = \" \"\n",
    "sentence_count = 5\n",
    "start_seq = random.choice(list(counts.keys()))\n",
    "\n",
    "ngrams = build_ngrams()\n",
    "counts = ngram_freqs(ngrams)\n",
    "\n",
    "\n",
    "generated = start_seq.lower()\n",
    "sentences = 0\n",
    "\n",
    "while sentences < sentence_count:\n",
    "    try:\n",
    "        generated += SEP + next_word(generated, N, counts)\n",
    "        if generated.endswith(('.', '!', '?')):\n",
    "            sentences += 1\n",
    "    except KeyError:\n",
    "\n",
    "        new_start = random.choice(list(counts.keys()))\n",
    "        print(f\"Restarting from: '{new_start}'\")\n",
    "        generated += SEP + new_start\n",
    "\n",
    "\n",
    "print(\"Before cleaning:\\n\")\n",
    "print(generated)\n",
    "print(\"\\nAfter cleaning:\\n\")\n",
    "print(clean_generated(generated))"
   ],
   "outputs": [
    {
     "name": "stdout",
     "output_type": "stream",
     "text": [
      "Restarting from: 'embroiled in politics as'\n",
      "Before cleaning:\n",
      "\n",
      "banks . it the embroiled in politics as anti-abortion groups continued to oppose federal funding . The dispute has hampered the administration efforts to recruit prominent doctors 0 to fill prestigious posts at the helm of the NIH and the Centers for Disease Control . Several candidates have withdrawn their names from consideration after administration officials asked them for their views on abortion and fetal-tissue transplants . Antonio Novello whom Mr. Bush nominated to serve as surgeon general reportedly has assured the administration that she opposes abortion .\n",
      "\n",
      "After cleaning:\n",
      "\n",
      "Banks. It the embroiled in politics as anti-abortion groups continued to oppose federal funding. The dispute has hampered the administration efforts to recruit prominent doctors 0 to fill prestigious posts at the helm of the nih and the centers for disease control. Several candidates have withdrawn their names from consideration after administration officials asked them for their views on abortion and fetal-tissue transplants. Antonio novello whom mr. Bush nominated to serve as surgeon general reportedly has assured the administration that she opposes abortion.\n"
     ]
    }
   ],
   "execution_count": 29
  }
 ],
 "metadata": {
  "kernelspec": {
   "display_name": "Python 3",
   "language": "python",
   "name": "python3"
  },
  "language_info": {
   "codemirror_mode": {
    "name": "ipython",
    "version": 3
   },
   "file_extension": ".py",
   "mimetype": "text/x-python",
   "name": "python",
   "nbconvert_exporter": "python",
   "pygments_lexer": "ipython3",
   "version": "3.6.9"
  }
 },
 "nbformat": 4,
 "nbformat_minor": 4
}
